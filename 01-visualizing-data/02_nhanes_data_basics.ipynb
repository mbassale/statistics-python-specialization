{
 "cells": [
  {
   "cell_type": "markdown",
   "id": "reliable-digest",
   "metadata": {},
   "source": [
    "# NHANES Data Exploration using Python"
   ]
  },
  {
   "cell_type": "markdown",
   "id": "missing-mistress",
   "metadata": {},
   "source": [
    "We will start importing the pandas library."
   ]
  },
  {
   "cell_type": "code",
   "execution_count": 1,
   "id": "similar-charter",
   "metadata": {},
   "outputs": [],
   "source": [
    "import pandas as pd"
   ]
  },
  {
   "cell_type": "markdown",
   "id": "baking-international",
   "metadata": {},
   "source": [
    "Now we will load *nhanes* data using the `read_csv` function."
   ]
  },
  {
   "cell_type": "code",
   "execution_count": 2,
   "id": "vocational-compression",
   "metadata": {},
   "outputs": [],
   "source": [
    "file = 'nhanes_2015_2016.csv'\n",
    "df = pd.read_csv(file)"
   ]
  },
  {
   "cell_type": "markdown",
   "id": "relevant-swedish",
   "metadata": {},
   "source": [
    "Get the number of rows and columns on the dataframe."
   ]
  },
  {
   "cell_type": "code",
   "execution_count": 3,
   "id": "broke-commitment",
   "metadata": {},
   "outputs": [
    {
     "data": {
      "text/plain": [
       "(5735, 28)"
      ]
     },
     "execution_count": 3,
     "metadata": {},
     "output_type": "execute_result"
    }
   ],
   "source": [
    "df.shape"
   ]
  },
  {
   "cell_type": "markdown",
   "id": "biblical-clark",
   "metadata": {},
   "source": [
    "### Exploring the Contents\n",
    "\n",
    "To show the columns use the `columns` property."
   ]
  },
  {
   "cell_type": "code",
   "execution_count": 6,
   "id": "conservative-sculpture",
   "metadata": {},
   "outputs": [
    {
     "data": {
      "text/plain": [
       "Index(['SEQN', 'ALQ101', 'ALQ110', 'ALQ130', 'SMQ020', 'RIAGENDR', 'RIDAGEYR',\n",
       "       'RIDRETH1', 'DMDCITZN', 'DMDEDUC2', 'DMDMARTL', 'DMDHHSIZ', 'WTINT2YR',\n",
       "       'SDMVPSU', 'SDMVSTRA', 'INDFMPIR', 'BPXSY1', 'BPXDI1', 'BPXSY2',\n",
       "       'BPXDI2', 'BMXWT', 'BMXHT', 'BMXBMI', 'BMXLEG', 'BMXARML', 'BMXARMC',\n",
       "       'BMXWAIST', 'HIQ210'],\n",
       "      dtype='object')"
      ]
     },
     "execution_count": 6,
     "metadata": {},
     "output_type": "execute_result"
    }
   ],
   "source": [
    "df.columns"
   ]
  },
  {
   "cell_type": "markdown",
   "id": "through-distributor",
   "metadata": {},
   "source": [
    "To get the datatypes of each columns."
   ]
  },
  {
   "cell_type": "code",
   "execution_count": 7,
   "id": "moving-maine",
   "metadata": {},
   "outputs": [
    {
     "data": {
      "text/plain": [
       "SEQN          int64\n",
       "ALQ101      float64\n",
       "ALQ110      float64\n",
       "ALQ130      float64\n",
       "SMQ020        int64\n",
       "RIAGENDR      int64\n",
       "RIDAGEYR      int64\n",
       "RIDRETH1      int64\n",
       "DMDCITZN    float64\n",
       "DMDEDUC2    float64\n",
       "DMDMARTL    float64\n",
       "DMDHHSIZ      int64\n",
       "WTINT2YR    float64\n",
       "SDMVPSU       int64\n",
       "SDMVSTRA      int64\n",
       "INDFMPIR    float64\n",
       "BPXSY1      float64\n",
       "BPXDI1      float64\n",
       "BPXSY2      float64\n",
       "BPXDI2      float64\n",
       "BMXWT       float64\n",
       "BMXHT       float64\n",
       "BMXBMI      float64\n",
       "BMXLEG      float64\n",
       "BMXARML     float64\n",
       "BMXARMC     float64\n",
       "BMXWAIST    float64\n",
       "HIQ210      float64\n",
       "dtype: object"
      ]
     },
     "execution_count": 7,
     "metadata": {},
     "output_type": "execute_result"
    }
   ],
   "source": [
    "df.dtypes"
   ]
  },
  {
   "cell_type": "markdown",
   "id": "liquid-allowance",
   "metadata": {},
   "source": [
    "### Slicing a data set\n",
    "\n",
    "Extract one person educational attainment."
   ]
  },
  {
   "cell_type": "code",
   "execution_count": 13,
   "id": "executive-charm",
   "metadata": {},
   "outputs": [],
   "source": [
    "w = df['DMDEDUC2']\n",
    "x = df.loc[: 'DMDEDUC2']\n",
    "y = df.DMDEDUC2\n",
    "z = df.iloc[:,9]"
   ]
  },
  {
   "cell_type": "code",
   "execution_count": 14,
   "id": "weekly-georgia",
   "metadata": {},
   "outputs": [
    {
     "data": {
      "text/plain": [
       "(0       5.0\n",
       " 1       3.0\n",
       " 2       3.0\n",
       " 3       5.0\n",
       " 4       4.0\n",
       "        ... \n",
       " 5730    3.0\n",
       " 5731    5.0\n",
       " 5732    4.0\n",
       " 5733    1.0\n",
       " 5734    5.0\n",
       " Name: DMDEDUC2, Length: 5735, dtype: float64,\n",
       "        SEQN  ALQ101  ALQ110  ALQ130  SMQ020  RIAGENDR  RIDAGEYR  RIDRETH1  \\\n",
       " 0     83732     1.0     NaN     1.0       1         1        62         3   \n",
       " 1     83733     1.0     NaN     6.0       1         1        53         3   \n",
       " 2     83734     1.0     NaN     NaN       1         1        78         3   \n",
       " 3     83735     2.0     1.0     1.0       2         2        56         3   \n",
       " 4     83736     2.0     1.0     1.0       2         2        42         4   \n",
       " ...     ...     ...     ...     ...     ...       ...       ...       ...   \n",
       " 5730  93695     2.0     2.0     NaN       1         2        76         3   \n",
       " 5731  93696     2.0     2.0     NaN       2         1        26         3   \n",
       " 5732  93697     1.0     NaN     1.0       1         2        80         3   \n",
       " 5733  93700     NaN     NaN     NaN       1         1        35         3   \n",
       " 5734  93702     1.0     NaN     2.0       2         2        24         3   \n",
       " \n",
       "       DMDCITZN  DMDEDUC2  ...  BPXSY2  BPXDI2  BMXWT  BMXHT  BMXBMI  BMXLEG  \\\n",
       " 0          1.0       5.0  ...   124.0    64.0   94.8  184.5    27.8    43.3   \n",
       " 1          2.0       3.0  ...   140.0    88.0   90.4  171.4    30.8    38.0   \n",
       " 2          1.0       3.0  ...   132.0    44.0   83.4  170.1    28.8    35.6   \n",
       " 3          1.0       5.0  ...   134.0    68.0  109.8  160.9    42.4    38.5   \n",
       " 4          1.0       4.0  ...   114.0    54.0   55.2  164.9    20.3    37.4   \n",
       " ...        ...       ...  ...     ...     ...    ...    ...     ...     ...   \n",
       " 5730       1.0       3.0  ...   112.0    46.0   59.1  165.8    21.5    38.2   \n",
       " 5731       1.0       5.0  ...   116.0    76.0  112.1  182.2    33.8    43.4   \n",
       " 5732       1.0       4.0  ...   146.0    58.0   71.7  152.2    31.0    31.3   \n",
       " 5733       2.0       1.0  ...   106.0    66.0   78.2  173.3    26.0    40.3   \n",
       " 5734       1.0       5.0  ...   114.0    68.0   58.3  165.0    21.4    38.2   \n",
       " \n",
       "       BMXARML  BMXARMC  BMXWAIST  HIQ210  \n",
       " 0        43.6     35.9     101.1     2.0  \n",
       " 1        40.0     33.2     107.9     NaN  \n",
       " 2        37.0     31.0     116.5     2.0  \n",
       " 3        37.7     38.3     110.1     2.0  \n",
       " 4        36.0     27.2      80.4     2.0  \n",
       " ...       ...      ...       ...     ...  \n",
       " 5730     37.0     29.5      95.0     2.0  \n",
       " 5731     41.8     42.3     110.2     2.0  \n",
       " 5732     37.5     28.8       NaN     2.0  \n",
       " 5733     37.5     30.6      98.9     2.0  \n",
       " 5734     33.5     26.2      72.5     2.0  \n",
       " \n",
       " [5735 rows x 28 columns],\n",
       " 0       5.0\n",
       " 1       3.0\n",
       " 2       3.0\n",
       " 3       5.0\n",
       " 4       4.0\n",
       "        ... \n",
       " 5730    3.0\n",
       " 5731    5.0\n",
       " 5732    4.0\n",
       " 5733    1.0\n",
       " 5734    5.0\n",
       " Name: DMDEDUC2, Length: 5735, dtype: float64,\n",
       " 0       5.0\n",
       " 1       3.0\n",
       " 2       3.0\n",
       " 3       5.0\n",
       " 4       4.0\n",
       "        ... \n",
       " 5730    3.0\n",
       " 5731    5.0\n",
       " 5732    4.0\n",
       " 5733    1.0\n",
       " 5734    5.0\n",
       " Name: DMDEDUC2, Length: 5735, dtype: float64)"
      ]
     },
     "execution_count": 14,
     "metadata": {},
     "output_type": "execute_result"
    }
   ],
   "source": [
    "w,x,y,z"
   ]
  },
  {
   "cell_type": "markdown",
   "id": "elementary-acting",
   "metadata": {},
   "source": [
    "Get the maximum value of educational attainment."
   ]
  },
  {
   "cell_type": "code",
   "execution_count": 17,
   "id": "incorporate-canadian",
   "metadata": {},
   "outputs": [
    {
     "data": {
      "text/plain": [
       "9.0"
      ]
     },
     "execution_count": 17,
     "metadata": {},
     "output_type": "execute_result"
    }
   ],
   "source": [
    "df.DMDEDUC2.max()"
   ]
  },
  {
   "cell_type": "markdown",
   "id": "proprietary-yemen",
   "metadata": {},
   "source": [
    "Checking the types of the values above."
   ]
  },
  {
   "cell_type": "code",
   "execution_count": 18,
   "id": "diagnostic-single",
   "metadata": {},
   "outputs": [
    {
     "name": "stdout",
     "output_type": "stream",
     "text": [
      "<class 'pandas.core.frame.DataFrame'>\n",
      "<class 'pandas.core.series.Series'>\n",
      "<class 'pandas.core.series.Series'>\n"
     ]
    }
   ],
   "source": [
    "print(type(df))\n",
    "print(type(df['DMDEDUC2']))\n",
    "print(type(df.DMDEDUC2))"
   ]
  },
  {
   "cell_type": "markdown",
   "id": "boxed-action",
   "metadata": {},
   "source": [
    "To get one row of the dataframe."
   ]
  },
  {
   "cell_type": "code",
   "execution_count": 22,
   "id": "opening-class",
   "metadata": {},
   "outputs": [
    {
     "data": {
      "text/plain": [
       "SEQN         83735.0\n",
       "ALQ101           2.0\n",
       "ALQ110           1.0\n",
       "ALQ130           1.0\n",
       "SMQ020           2.0\n",
       "RIAGENDR         2.0\n",
       "RIDAGEYR        56.0\n",
       "RIDRETH1         3.0\n",
       "DMDCITZN         1.0\n",
       "DMDEDUC2         5.0\n",
       "DMDMARTL         6.0\n",
       "DMDHHSIZ         1.0\n",
       "WTINT2YR    102718.0\n",
       "SDMVPSU          1.0\n",
       "SDMVSTRA       131.0\n",
       "INDFMPIR         5.0\n",
       "BPXSY1         132.0\n",
       "BPXDI1          72.0\n",
       "BPXSY2         134.0\n",
       "BPXDI2          68.0\n",
       "BMXWT          109.8\n",
       "BMXHT          160.9\n",
       "BMXBMI          42.4\n",
       "BMXLEG          38.5\n",
       "BMXARML         37.7\n",
       "BMXARMC         38.3\n",
       "BMXWAIST       110.1\n",
       "HIQ210           2.0\n",
       "Name: 3, dtype: float64"
      ]
     },
     "execution_count": 22,
     "metadata": {},
     "output_type": "execute_result"
    }
   ],
   "source": [
    "df.iloc[3,:]"
   ]
  },
  {
   "cell_type": "markdown",
   "id": "swiss-russell",
   "metadata": {},
   "source": [
    "### Missing values\n",
    "\n",
    "To check for missing values we use the functions `isnull` and `notnull`."
   ]
  },
  {
   "cell_type": "code",
   "execution_count": 29,
   "id": "intermediate-choice",
   "metadata": {},
   "outputs": [
    {
     "data": {
      "text/plain": [
       "261"
      ]
     },
     "execution_count": 29,
     "metadata": {},
     "output_type": "execute_result"
    }
   ],
   "source": [
    "pd.isnull(df.DMDEDUC2).sum()"
   ]
  },
  {
   "cell_type": "code",
   "execution_count": 25,
   "id": "manual-jungle",
   "metadata": {},
   "outputs": [
    {
     "data": {
      "text/plain": [
       "5474"
      ]
     },
     "execution_count": 25,
     "metadata": {},
     "output_type": "execute_result"
    }
   ],
   "source": [
    "pd.notnull(df.DMDEDUC2).sum()"
   ]
  },
  {
   "cell_type": "code",
   "execution_count": null,
   "id": "spoken-store",
   "metadata": {},
   "outputs": [],
   "source": []
  }
 ],
 "metadata": {
  "kernelspec": {
   "display_name": "Python 3",
   "language": "python",
   "name": "python3"
  },
  "language_info": {
   "codemirror_mode": {
    "name": "ipython",
    "version": 3
   },
   "file_extension": ".py",
   "mimetype": "text/x-python",
   "name": "python",
   "nbconvert_exporter": "python",
   "pygments_lexer": "ipython3",
   "version": "3.9.1"
  }
 },
 "nbformat": 4,
 "nbformat_minor": 5
}
