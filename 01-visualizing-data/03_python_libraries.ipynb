{
 "cells": [
  {
   "cell_type": "markdown",
   "id": "familiar-custody",
   "metadata": {},
   "source": [
    "# NumPy\n",
    "NumPy is a basic numerical computing library for Python.\n",
    "First we will import the library:"
   ]
  },
  {
   "cell_type": "code",
   "execution_count": 1,
   "id": "incident-japan",
   "metadata": {},
   "outputs": [],
   "source": [
    "import numpy as np"
   ]
  },
  {
   "cell_type": "markdown",
   "id": "japanese-essex",
   "metadata": {},
   "source": [
    "### NumPy Array\n",
    "We can create high-performance arrays with NumPy, the difference with Python lists is that all elements in the array are of the same data type."
   ]
  },
  {
   "cell_type": "code",
   "execution_count": 2,
   "id": "assumed-workshop",
   "metadata": {},
   "outputs": [
    {
     "name": "stdout",
     "output_type": "stream",
     "text": [
      "<class 'numpy.ndarray'>\n"
     ]
    }
   ],
   "source": [
    "a = np.array([1, 2, 3])\n",
    "print(type(a))"
   ]
  },
  {
   "cell_type": "markdown",
   "id": "atomic-capability",
   "metadata": {},
   "source": [
    "We can check the dimensions of the array (the rank) using the `numpy.shape` function."
   ]
  },
  {
   "cell_type": "code",
   "execution_count": 4,
   "id": "original-proposition",
   "metadata": {},
   "outputs": [
    {
     "name": "stdout",
     "output_type": "stream",
     "text": [
      "(3,)\n"
     ]
    }
   ],
   "source": [
    "print(np.shape(a))"
   ]
  },
  {
   "cell_type": "markdown",
   "id": "committed-gnome",
   "metadata": {},
   "source": [
    "Also, we can create arrays with more dimensions, for that we can nest lists."
   ]
  },
  {
   "cell_type": "code",
   "execution_count": 6,
   "id": "thorough-cleaning",
   "metadata": {},
   "outputs": [
    {
     "name": "stdout",
     "output_type": "stream",
     "text": [
      "[[1 2]\n",
      " [3 4]]\n",
      "(2, 2)\n"
     ]
    }
   ],
   "source": [
    "b = np.array([[1,2],[3,4]])\n",
    "print(b)\n",
    "print(np.shape(b))"
   ]
  },
  {
   "cell_type": "markdown",
   "id": "ongoing-grave",
   "metadata": {},
   "source": [
    "To access any element, we use python zero-based indexing."
   ]
  },
  {
   "cell_type": "code",
   "execution_count": 8,
   "id": "younger-vulnerability",
   "metadata": {},
   "outputs": [
    {
     "data": {
      "text/plain": [
       "3"
      ]
     },
     "execution_count": 8,
     "metadata": {},
     "output_type": "execute_result"
    }
   ],
   "source": [
    "b[1,0]"
   ]
  },
  {
   "cell_type": "markdown",
   "id": "hispanic-heavy",
   "metadata": {},
   "source": [
    "NumPy supports creation of pre-filled arrays using the functions: `numpy.zeros`, `numpy.ones`, `numpy.full` and `numpy.random` module."
   ]
  },
  {
   "cell_type": "code",
   "execution_count": 10,
   "id": "ongoing-palmer",
   "metadata": {},
   "outputs": [
    {
     "data": {
      "text/plain": [
       "array([[0., 0.],\n",
       "       [0., 0.],\n",
       "       [0., 0.]])"
      ]
     },
     "execution_count": 10,
     "metadata": {},
     "output_type": "execute_result"
    }
   ],
   "source": [
    "c = np.zeros((3,2))\n",
    "c"
   ]
  },
  {
   "cell_type": "code",
   "execution_count": 12,
   "id": "encouraging-garbage",
   "metadata": {},
   "outputs": [
    {
     "data": {
      "text/plain": [
       "array([[1., 1.],\n",
       "       [1., 1.],\n",
       "       [1., 1.]])"
      ]
     },
     "execution_count": 12,
     "metadata": {},
     "output_type": "execute_result"
    }
   ],
   "source": [
    "d = np.ones((3,2))\n",
    "d"
   ]
  },
  {
   "cell_type": "code",
   "execution_count": 13,
   "id": "growing-polish",
   "metadata": {},
   "outputs": [
    {
     "data": {
      "text/plain": [
       "array([[9, 9, 9],\n",
       "       [9, 9, 9],\n",
       "       [9, 9, 9]])"
      ]
     },
     "execution_count": 13,
     "metadata": {},
     "output_type": "execute_result"
    }
   ],
   "source": [
    "e = np.full((3,3), 9)\n",
    "e"
   ]
  },
  {
   "cell_type": "code",
   "execution_count": 14,
   "id": "inclusive-spray",
   "metadata": {},
   "outputs": [
    {
     "data": {
      "text/plain": [
       "array([[0.47863574, 0.66401292, 0.88979101],\n",
       "       [0.05019972, 0.36369036, 0.2215323 ],\n",
       "       [0.3399293 , 0.11399486, 0.76018723]])"
      ]
     },
     "execution_count": 14,
     "metadata": {},
     "output_type": "execute_result"
    }
   ],
   "source": [
    "g = np.random.random((3, 3))\n",
    "g"
   ]
  },
  {
   "cell_type": "markdown",
   "id": "discrete-brisbane",
   "metadata": {},
   "source": [
    "### Array Indexing\n",
    "\n",
    "Array indexing works in the same way that python lists, we can slice arrays. Beware that slices are references, so the original array can still be modified when we use an slice."
   ]
  },
  {
   "cell_type": "code",
   "execution_count": 17,
   "id": "south-proposal",
   "metadata": {},
   "outputs": [
    {
     "data": {
      "text/plain": [
       "array([[ 1,  2,  3,  4],\n",
       "       [ 5,  6,  7,  8],\n",
       "       [ 9, 10, 11, 12]])"
      ]
     },
     "execution_count": 17,
     "metadata": {},
     "output_type": "execute_result"
    }
   ],
   "source": [
    "h = np.array([[1,2,3,4], [5,6,7,8], [9,10,11,12]])\n",
    "h"
   ]
  },
  {
   "cell_type": "code",
   "execution_count": 18,
   "id": "nearby-quilt",
   "metadata": {},
   "outputs": [
    {
     "data": {
      "text/plain": [
       "array([[2, 3],\n",
       "       [6, 7]])"
      ]
     },
     "execution_count": 18,
     "metadata": {},
     "output_type": "execute_result"
    }
   ],
   "source": [
    "h = h[:2,1:3]\n",
    "h"
   ]
  },
  {
   "cell_type": "code",
   "execution_count": 20,
   "id": "coupled-venue",
   "metadata": {},
   "outputs": [
    {
     "name": "stdout",
     "output_type": "stream",
     "text": [
      "[[ 1  2  3  4]\n",
      " [ 5  6  7  8]\n",
      " [ 9 10 11 12]]\n",
      "[[2 3]\n",
      " [6 7]]\n"
     ]
    }
   ],
   "source": [
    "h = np.array([[1,2,3,4], [5,6,7,8], [9,10,11,12]])\n",
    "i = h[:2, 1:3]\n",
    "print(h)\n",
    "print(i)"
   ]
  },
  {
   "cell_type": "markdown",
   "id": "conscious-chambers",
   "metadata": {},
   "source": [
    "Changing an element of the slice `i`, modifies the original array `h`."
   ]
  },
  {
   "cell_type": "code",
   "execution_count": 24,
   "id": "general-designation",
   "metadata": {},
   "outputs": [],
   "source": [
    "i[0,0] = 500"
   ]
  },
  {
   "cell_type": "code",
   "execution_count": 25,
   "id": "ceramic-commodity",
   "metadata": {},
   "outputs": [
    {
     "data": {
      "text/plain": [
       "array([[500,   3],\n",
       "       [  6,   7]])"
      ]
     },
     "execution_count": 25,
     "metadata": {},
     "output_type": "execute_result"
    }
   ],
   "source": [
    "i"
   ]
  },
  {
   "cell_type": "code",
   "execution_count": 22,
   "id": "adjustable-sampling",
   "metadata": {},
   "outputs": [
    {
     "data": {
      "text/plain": [
       "array([[  1, 500,   3,   4],\n",
       "       [  5,   6,   7,   8],\n",
       "       [  9,  10,  11,  12]])"
      ]
     },
     "execution_count": 22,
     "metadata": {},
     "output_type": "execute_result"
    }
   ],
   "source": [
    "h"
   ]
  },
  {
   "cell_type": "markdown",
   "id": "incident-xerox",
   "metadata": {},
   "source": [
    "### Datatypes in Arrays\n",
    "We have two datatypes on NumPy, `int64` and `float64` for integers and floating point numbers respectively, we can use `dtype` argument when we create an array to force an specific datatype."
   ]
  },
  {
   "cell_type": "code",
   "execution_count": 26,
   "id": "adverse-fellow",
   "metadata": {},
   "outputs": [
    {
     "data": {
      "text/plain": [
       "dtype('int64')"
      ]
     },
     "execution_count": 26,
     "metadata": {},
     "output_type": "execute_result"
    }
   ],
   "source": [
    "j = np.array([1,2])\n",
    "j.dtype"
   ]
  },
  {
   "cell_type": "code",
   "execution_count": 30,
   "id": "adult-gibson",
   "metadata": {},
   "outputs": [
    {
     "data": {
      "text/plain": [
       "dtype('float64')"
      ]
     },
     "execution_count": 30,
     "metadata": {},
     "output_type": "execute_result"
    }
   ],
   "source": [
    "k = np.array([1.0, 2.0])\n",
    "k.dtype"
   ]
  },
  {
   "cell_type": "code",
   "execution_count": 32,
   "id": "metric-daughter",
   "metadata": {},
   "outputs": [
    {
     "data": {
      "text/plain": [
       "dtype('int64')"
      ]
     },
     "execution_count": 32,
     "metadata": {},
     "output_type": "execute_result"
    }
   ],
   "source": [
    "l = np.array([1.0, 2.0], dtype = np.int64)\n",
    "l.dtype"
   ]
  },
  {
   "cell_type": "markdown",
   "id": "accepted-telescope",
   "metadata": {},
   "source": [
    "### Array Math"
   ]
  },
  {
   "cell_type": "code",
   "execution_count": 34,
   "id": "artificial-pound",
   "metadata": {},
   "outputs": [],
   "source": [
    "x = np.array([[1,2], [3,4]], dtype=np.float64)\n",
    "y = np.array([[5,6], [7,8]], dtype=np.float64)"
   ]
  },
  {
   "cell_type": "code",
   "execution_count": 36,
   "id": "after-nashville",
   "metadata": {},
   "outputs": [
    {
     "data": {
      "text/plain": [
       "array([[ 6.,  8.],\n",
       "       [10., 12.]])"
      ]
     },
     "execution_count": 36,
     "metadata": {},
     "output_type": "execute_result"
    }
   ],
   "source": [
    "x + y"
   ]
  },
  {
   "cell_type": "code",
   "execution_count": 37,
   "id": "industrial-bahrain",
   "metadata": {},
   "outputs": [
    {
     "data": {
      "text/plain": [
       "array([[-4., -4.],\n",
       "       [-4., -4.]])"
      ]
     },
     "execution_count": 37,
     "metadata": {},
     "output_type": "execute_result"
    }
   ],
   "source": [
    "x - y"
   ]
  },
  {
   "cell_type": "markdown",
   "id": "serial-queensland",
   "metadata": {},
   "source": [
    "If we multiply two arrays, numpy will perform a element-by-element multiplication."
   ]
  },
  {
   "cell_type": "code",
   "execution_count": 45,
   "id": "hearing-enforcement",
   "metadata": {},
   "outputs": [
    {
     "data": {
      "text/plain": [
       "array([[1.        , 2.82842712],\n",
       "       [5.19615242, 8.        ]])"
      ]
     },
     "execution_count": 45,
     "metadata": {},
     "output_type": "execute_result"
    }
   ],
   "source": [
    "x * y"
   ]
  },
  {
   "cell_type": "markdown",
   "id": "found-livestock",
   "metadata": {},
   "source": [
    "For matrix multiplication we use the `dot` function."
   ]
  },
  {
   "cell_type": "code",
   "execution_count": 47,
   "id": "informative-wisdom",
   "metadata": {},
   "outputs": [
    {
     "data": {
      "text/plain": [
       "array([[ 4.46410162,  5.41421356],\n",
       "       [ 9.92820323, 12.24264069]])"
      ]
     },
     "execution_count": 47,
     "metadata": {},
     "output_type": "execute_result"
    }
   ],
   "source": [
    "x.dot(y)"
   ]
  },
  {
   "cell_type": "code",
   "execution_count": 39,
   "id": "current-mechanics",
   "metadata": {},
   "outputs": [
    {
     "data": {
      "text/plain": [
       "array([[0.2       , 0.33333333],\n",
       "       [0.42857143, 0.5       ]])"
      ]
     },
     "execution_count": 39,
     "metadata": {},
     "output_type": "execute_result"
    }
   ],
   "source": [
    "x / y"
   ]
  },
  {
   "cell_type": "code",
   "execution_count": 41,
   "id": "elementary-delaware",
   "metadata": {},
   "outputs": [
    {
     "data": {
      "text/plain": [
       "array([[1.        , 1.41421356],\n",
       "       [1.73205081, 2.        ]])"
      ]
     },
     "execution_count": 41,
     "metadata": {},
     "output_type": "execute_result"
    }
   ],
   "source": [
    "np.sqrt(x)"
   ]
  },
  {
   "cell_type": "code",
   "execution_count": 42,
   "id": "assumed-bonus",
   "metadata": {},
   "outputs": [
    {
     "data": {
      "text/plain": [
       "10.0"
      ]
     },
     "execution_count": 42,
     "metadata": {},
     "output_type": "execute_result"
    }
   ],
   "source": [
    "np.sum(x)"
   ]
  },
  {
   "cell_type": "code",
   "execution_count": 43,
   "id": "interior-nerve",
   "metadata": {},
   "outputs": [
    {
     "data": {
      "text/plain": [
       "array([4., 6.])"
      ]
     },
     "execution_count": 43,
     "metadata": {},
     "output_type": "execute_result"
    }
   ],
   "source": [
    "np.sum(x, axis=0)"
   ]
  },
  {
   "cell_type": "code",
   "execution_count": 44,
   "id": "prompt-prospect",
   "metadata": {},
   "outputs": [
    {
     "data": {
      "text/plain": [
       "array([3., 7.])"
      ]
     },
     "execution_count": 44,
     "metadata": {},
     "output_type": "execute_result"
    }
   ],
   "source": [
    "np.sum(x, axis=1)"
   ]
  },
  {
   "cell_type": "markdown",
   "id": "polished-tribune",
   "metadata": {},
   "source": [
    "# SciPy"
   ]
  },
  {
   "cell_type": "markdown",
   "id": "selected-porter",
   "metadata": {},
   "source": [
    "Built on the fundation of NumPy, this library provides high-level functions useful for analysis on scientific and engineering applications.\n",
    "\n",
    "## SciPy.Stats\n",
    "This module contains a growning library of statistical functions."
   ]
  },
  {
   "cell_type": "code",
   "execution_count": 3,
   "id": "interstate-mixture",
   "metadata": {},
   "outputs": [],
   "source": [
    "from scipy import stats\n",
    "import numpy as np"
   ]
  },
  {
   "cell_type": "markdown",
   "id": "unexpected-alabama",
   "metadata": {},
   "source": [
    "### Generate normal distributed data."
   ]
  },
  {
   "cell_type": "code",
   "execution_count": 6,
   "id": "social-explosion",
   "metadata": {},
   "outputs": [
    {
     "data": {
      "text/plain": [
       "array([-1.49207232,  0.27859212,  0.45410585, -1.56722188,  0.8410568 ,\n",
       "       -0.19107407, -2.5705316 , -0.35716111,  0.3047368 ,  0.73125261])"
      ]
     },
     "execution_count": 6,
     "metadata": {},
     "output_type": "execute_result"
    }
   ],
   "source": [
    "stats.norm.rvs(size=10)"
   ]
  },
  {
   "cell_type": "markdown",
   "id": "diverse-directory",
   "metadata": {},
   "source": [
    "### PDF and CDF Example"
   ]
  },
  {
   "cell_type": "code",
   "execution_count": 20,
   "id": "unknown-howard",
   "metadata": {},
   "outputs": [
    {
     "data": {
      "image/png": "[encoded data removed]",
      "text/plain": [
       "<Figure size 432x288 with 1 Axes>"
      ]
     },
     "metadata": {
      "needs_background": "light"
     },
     "output_type": "display_data"
    }
   ],
   "source": [
    "from pylab import *\n",
    "\n",
    "# Create some test data\n",
    "dx = .01\n",
    "X = np.arange(-2, 2, dx)\n",
    "Y = exp(-X ** 2)\n",
    "\n",
    "# Normalize the data to a proper PDF\n",
    "Y /= (dx * Y).sum()\n",
    "\n",
    "# Compute the CDF\n",
    "CY = np.cumsum(Y*dx)\n",
    "\n",
    "# Plot both\n",
    "plot(X, Y)\n",
    "plot(X, CY, 'r--')\n",
    "show()"
   ]
  },
  {
   "cell_type": "code",
   "execution_count": 22,
   "id": "historical-essence",
   "metadata": {},
   "outputs": [
    {
     "data": {
      "text/plain": [
       "array([0.0668072 , 0.30853754, 0.5       , 0.84134475, 0.9331928 ,\n",
       "       0.97724987, 1.        ])"
      ]
     },
     "execution_count": 22,
     "metadata": {},
     "output_type": "execute_result"
    }
   ],
   "source": [
    "stats.norm.cdf(np.array([-1.5, -0.5, 0, 1, 1.5, 2, 6]))"
   ]
  },
  {
   "cell_type": "markdown",
   "id": "instrumental-columbia",
   "metadata": {},
   "source": [
    "## Descriptive Statistics"
   ]
  },
  {
   "cell_type": "code",
   "execution_count": 27,
   "id": "sticky-jesus",
   "metadata": {},
   "outputs": [],
   "source": [
    "np.random.seed(1234)\n",
    "\n",
    "x = stats.t.rvs(10, size = 1000)"
   ]
  },
  {
   "cell_type": "code",
   "execution_count": 28,
   "id": "received-wilderness",
   "metadata": {},
   "outputs": [
    {
     "data": {
      "text/plain": [
       "-3.7081318682862507"
      ]
     },
     "execution_count": 28,
     "metadata": {},
     "output_type": "execute_result"
    }
   ],
   "source": [
    "x.min()"
   ]
  },
  {
   "cell_type": "code",
   "execution_count": 29,
   "id": "alternate-davis",
   "metadata": {},
   "outputs": [
    {
     "data": {
      "text/plain": [
       "5.489762351653657"
      ]
     },
     "execution_count": 29,
     "metadata": {},
     "output_type": "execute_result"
    }
   ],
   "source": [
    "x.max()"
   ]
  },
  {
   "cell_type": "code",
   "execution_count": 30,
   "id": "injured-asthma",
   "metadata": {},
   "outputs": [
    {
     "data": {
      "text/plain": [
       "DescribeResult(nobs=1000, minmax=(-3.7081318682862507, 5.489762351653657), mean=0.03301501424446721, variance=1.2180596486677358, skewness=0.017360162164788, kurtosis=0.9792361694613958)"
      ]
     },
     "execution_count": 30,
     "metadata": {},
     "output_type": "execute_result"
    }
   ],
   "source": [
    "stats.describe(x)"
   ]
  },
  {
   "cell_type": "markdown",
   "id": "affected-forth",
   "metadata": {},
   "source": [
    "# Visualizing Data in Python\n",
    "\n",
    "We can create tables, histograms, boxplots using the libraries `seaborn` and `matplotlib`."
   ]
  },
  {
   "cell_type": "code",
   "execution_count": 3,
   "id": "crucial-tokyo",
   "metadata": {},
   "outputs": [],
   "source": [
    "import seaborn as sns\n",
    "import matplotlib.pyplot as plt\n",
    "\n",
    "tips_data = sns.load_dataset('tips')"
   ]
  },
  {
   "cell_type": "markdown",
   "id": "acceptable-cargo",
   "metadata": {},
   "source": [
    "We use `numpy.head()` function to see the first rows of the dataset."
   ]
  },
  {
   "cell_type": "code",
   "execution_count": 4,
   "id": "prerequisite-chemical",
   "metadata": {},
   "outputs": [
    {
     "data": {
      "text/html": [
       "<div>\n",
       "<style scoped>\n",
       "    .dataframe tbody tr th:only-of-type {\n",
       "        vertical-align: middle;\n",
       "    }\n",
       "\n",
       "    .dataframe tbody tr th {\n",
       "        vertical-align: top;\n",
       "    }\n",
       "\n",
       "    .dataframe thead th {\n",
       "        text-align: right;\n",
       "    }\n",
       "</style>\n",
       "<table border=\"1\" class=\"dataframe\">\n",
       "  <thead>\n",
       "    <tr style=\"text-align: right;\">\n",
       "      <th></th>\n",
       "      <th>total_bill</th>\n",
       "      <th>tip</th>\n",
       "      <th>sex</th>\n",
       "      <th>smoker</th>\n",
       "      <th>day</th>\n",
       "      <th>time</th>\n",
       "      <th>size</th>\n",
       "    </tr>\n",
       "  </thead>\n",
       "  <tbody>\n",
       "    <tr>\n",
       "      <th>0</th>\n",
       "      <td>16.99</td>\n",
       "      <td>1.01</td>\n",
       "      <td>Female</td>\n",
       "      <td>No</td>\n",
       "      <td>Sun</td>\n",
       "      <td>Dinner</td>\n",
       "      <td>2</td>\n",
       "    </tr>\n",
       "    <tr>\n",
       "      <th>1</th>\n",
       "      <td>10.34</td>\n",
       "      <td>1.66</td>\n",
       "      <td>Male</td>\n",
       "      <td>No</td>\n",
       "      <td>Sun</td>\n",
       "      <td>Dinner</td>\n",
       "      <td>3</td>\n",
       "    </tr>\n",
       "    <tr>\n",
       "      <th>2</th>\n",
       "      <td>21.01</td>\n",
       "      <td>3.50</td>\n",
       "      <td>Male</td>\n",
       "      <td>No</td>\n",
       "      <td>Sun</td>\n",
       "      <td>Dinner</td>\n",
       "      <td>3</td>\n",
       "    </tr>\n",
       "    <tr>\n",
       "      <th>3</th>\n",
       "      <td>23.68</td>\n",
       "      <td>3.31</td>\n",
       "      <td>Male</td>\n",
       "      <td>No</td>\n",
       "      <td>Sun</td>\n",
       "      <td>Dinner</td>\n",
       "      <td>2</td>\n",
       "    </tr>\n",
       "    <tr>\n",
       "      <th>4</th>\n",
       "      <td>24.59</td>\n",
       "      <td>3.61</td>\n",
       "      <td>Female</td>\n",
       "      <td>No</td>\n",
       "      <td>Sun</td>\n",
       "      <td>Dinner</td>\n",
       "      <td>4</td>\n",
       "    </tr>\n",
       "  </tbody>\n",
       "</table>\n",
       "</div>"
      ],
      "text/plain": [
       "   total_bill   tip     sex smoker  day    time  size\n",
       "0       16.99  1.01  Female     No  Sun  Dinner     2\n",
       "1       10.34  1.66    Male     No  Sun  Dinner     3\n",
       "2       21.01  3.50    Male     No  Sun  Dinner     3\n",
       "3       23.68  3.31    Male     No  Sun  Dinner     2\n",
       "4       24.59  3.61  Female     No  Sun  Dinner     4"
      ]
     },
     "execution_count": 4,
     "metadata": {},
     "output_type": "execute_result"
    }
   ],
   "source": [
    "tips_data.head()"
   ]
  },
  {
   "cell_type": "markdown",
   "id": "intellectual-digit",
   "metadata": {},
   "source": [
    "#### Describing Data\n",
    "\n",
    "We use `numpy.describe()` function to print a summary of descriptive statistics for the data."
   ]
  },
  {
   "cell_type": "code",
   "execution_count": 5,
   "id": "extended-overhead",
   "metadata": {},
   "outputs": [
    {
     "data": {
      "text/html": [
       "<div>\n",
       "<style scoped>\n",
       "    .dataframe tbody tr th:only-of-type {\n",
       "        vertical-align: middle;\n",
       "    }\n",
       "\n",
       "    .dataframe tbody tr th {\n",
       "        vertical-align: top;\n",
       "    }\n",
       "\n",
       "    .dataframe thead th {\n",
       "        text-align: right;\n",
       "    }\n",
       "</style>\n",
       "<table border=\"1\" class=\"dataframe\">\n",
       "  <thead>\n",
       "    <tr style=\"text-align: right;\">\n",
       "      <th></th>\n",
       "      <th>total_bill</th>\n",
       "      <th>tip</th>\n",
       "      <th>size</th>\n",
       "    </tr>\n",
       "  </thead>\n",
       "  <tbody>\n",
       "    <tr>\n",
       "      <th>count</th>\n",
       "      <td>244.000000</td>\n",
       "      <td>244.000000</td>\n",
       "      <td>244.000000</td>\n",
       "    </tr>\n",
       "    <tr>\n",
       "      <th>mean</th>\n",
       "      <td>19.785943</td>\n",
       "      <td>2.998279</td>\n",
       "      <td>2.569672</td>\n",
       "    </tr>\n",
       "    <tr>\n",
       "      <th>std</th>\n",
       "      <td>8.902412</td>\n",
       "      <td>1.383638</td>\n",
       "      <td>0.951100</td>\n",
       "    </tr>\n",
       "    <tr>\n",
       "      <th>min</th>\n",
       "      <td>3.070000</td>\n",
       "      <td>1.000000</td>\n",
       "      <td>1.000000</td>\n",
       "    </tr>\n",
       "    <tr>\n",
       "      <th>25%</th>\n",
       "      <td>13.347500</td>\n",
       "      <td>2.000000</td>\n",
       "      <td>2.000000</td>\n",
       "    </tr>\n",
       "    <tr>\n",
       "      <th>50%</th>\n",
       "      <td>17.795000</td>\n",
       "      <td>2.900000</td>\n",
       "      <td>2.000000</td>\n",
       "    </tr>\n",
       "    <tr>\n",
       "      <th>75%</th>\n",
       "      <td>24.127500</td>\n",
       "      <td>3.562500</td>\n",
       "      <td>3.000000</td>\n",
       "    </tr>\n",
       "    <tr>\n",
       "      <th>max</th>\n",
       "      <td>50.810000</td>\n",
       "      <td>10.000000</td>\n",
       "      <td>6.000000</td>\n",
       "    </tr>\n",
       "  </tbody>\n",
       "</table>\n",
       "</div>"
      ],
      "text/plain": [
       "       total_bill         tip        size\n",
       "count  244.000000  244.000000  244.000000\n",
       "mean    19.785943    2.998279    2.569672\n",
       "std      8.902412    1.383638    0.951100\n",
       "min      3.070000    1.000000    1.000000\n",
       "25%     13.347500    2.000000    2.000000\n",
       "50%     17.795000    2.900000    2.000000\n",
       "75%     24.127500    3.562500    3.000000\n",
       "max     50.810000   10.000000    6.000000"
      ]
     },
     "execution_count": 5,
     "metadata": {},
     "output_type": "execute_result"
    }
   ],
   "source": [
    "tips_data.describe()"
   ]
  },
  {
   "cell_type": "markdown",
   "id": "purple-carbon",
   "metadata": {},
   "source": [
    "#### Creating a Histogram"
   ]
  },
  {
   "cell_type": "code",
   "execution_count": 7,
   "id": "taken-vienna",
   "metadata": {},
   "outputs": [
    {
     "data": {
      "text/plain": [
       "Text(0.5, 1.0, 'Histogram of Total Bill')"
      ]
     },
     "execution_count": 7,
     "metadata": {},
     "output_type": "execute_result"
    },
    {
     "data": {
      "image/png": "[encoded data removed]",
      "text/plain": [
       "<Figure size 432x288 with 1 Axes>"
      ]
     },
     "metadata": {
      "needs_background": "light"
     },
     "output_type": "display_data"
    }
   ],
   "source": [
    "# Plot a histogram of the total bill\n",
    "sns.histplot(tips_data['total_bill'], kde=False).set_title('Histogram of Total Bill')"
   ]
  },
  {
   "cell_type": "markdown",
   "id": "pacific-bacteria",
   "metadata": {},
   "source": [
    "We can see the following from the histrogram:\n",
    "- Unimodal distribution.\n",
    "- Right-skewed.\n",
    "- Median around 15.\n",
    "- Mean higher than the median."
   ]
  },
  {
   "cell_type": "code",
   "execution_count": 9,
   "id": "million-selection",
   "metadata": {},
   "outputs": [
    {
     "data": {
      "text/plain": [
       "Text(0.5, 1.0, 'Histogram of Total Tip')"
      ]
     },
     "execution_count": 9,
     "metadata": {},
     "output_type": "execute_result"
    },
    {
     "data": {
      "image/png": "[encoded data removed]",
      "text/plain": [
       "<Figure size 432x288 with 1 Axes>"
      ]
     },
     "metadata": {
      "needs_background": "light"
     },
     "output_type": "display_data"
    }
   ],
   "source": [
    "# Plot a histogram of the tips\n",
    "sns.histplot(tips_data['tip'], kde=False).set_title('Histogram of Total Tip')"
   ]
  },
  {
   "cell_type": "markdown",
   "id": "described-idaho",
   "metadata": {},
   "source": [
    "We can see the following:\n",
    "- Bimodal distribution.\n",
    "- Right-skewed.\n",
    "- Some outliers at USD$9 dollar tip."
   ]
  },
  {
   "cell_type": "code",
   "execution_count": 12,
   "id": "hawaiian-sculpture",
   "metadata": {},
   "outputs": [
    {
     "data": {
      "text/plain": [
       "Text(0.5, 1.0, 'Histogram of Tip Size and Total Bill')"
      ]
     },
     "execution_count": 12,
     "metadata": {},
     "output_type": "execute_result"
    },
    {
     "data": {
      "image/png": "[encoded data removed]",
      "text/plain": [
       "<Figure size 432x288 with 1 Axes>"
      ]
     },
     "metadata": {
      "needs_background": "light"
     },
     "output_type": "display_data"
    }
   ],
   "source": [
    "# Plot a histogram of both\n",
    "sns.histplot(tips_data['tip'], kde=False)\n",
    "sns.histplot(tips_data['total_bill'], kde=False).set_title('Histogram of Tip Size and Total Bill')"
   ]
  },
  {
   "cell_type": "markdown",
   "id": "beginning-title",
   "metadata": {},
   "source": [
    "#### Creating BoxPlots\n",
    "\n",
    "Boxplots are better to know about minimum, maximum, median and IQR of data, but don't show the shape of the distribution."
   ]
  },
  {
   "cell_type": "code",
   "execution_count": 17,
   "id": "north-advance",
   "metadata": {},
   "outputs": [
    {
     "data": {
      "text/plain": [
       "Text(0.5, 1.0, 'Box plot of Total Bill')"
      ]
     },
     "execution_count": 17,
     "metadata": {},
     "output_type": "execute_result"
    },
    {
     "data": {
      "image/png": "[encoded data removed]",
      "text/plain": [
       "<Figure size 432x288 with 1 Axes>"
      ]
     },
     "metadata": {
      "needs_background": "light"
     },
     "output_type": "display_data"
    }
   ],
   "source": [
    "# Create a boxplot of the total bill\n",
    "sns.boxplot(x=tips_data['total_bill']).set_title('Box plot of Total Bill')"
   ]
  },
  {
   "cell_type": "markdown",
   "id": "noble-reporter",
   "metadata": {},
   "source": [
    "From the boxplot we can see:\n",
    "- The median is about 18.\n",
    "- The mimimal bill is not zero.\n",
    "- The IQR is small about 12 to 25.\n",
    "- The maximum bill is 40.\n",
    "- Any bill over 40 is considered outlier."
   ]
  },
  {
   "cell_type": "code",
   "execution_count": 19,
   "id": "reasonable-brazilian",
   "metadata": {},
   "outputs": [
    {
     "data": {
      "text/plain": [
       "Text(0.5, 1.0, 'Box plot of the Tip')"
      ]
     },
     "execution_count": 19,
     "metadata": {},
     "output_type": "execute_result"
    },
    {
     "data": {
      "image/png": "[encoded data removed]",
      "text/plain": [
       "<Figure size 432x288 with 1 Axes>"
      ]
     },
     "metadata": {
      "needs_background": "light"
     },
     "output_type": "display_data"
    }
   ],
   "source": [
    "# Create a boxplot of the tip\n",
    "sns.boxplot(x=tips_data['tip']).set_title('Box plot of the Tip')"
   ]
  },
  {
   "cell_type": "markdown",
   "id": "narrative-travel",
   "metadata": {},
   "source": [
    "From the boxplot we can see:\n",
    "- The minimum tip is over zero.\n",
    "- The average tip is almost 3.\n",
    "- 75% of the tips are in the range 2 - 3.5.\n",
    "- The maximum tip is about 6.\n",
    "- Any tip over 6 is considered an outlier."
   ]
  },
  {
   "cell_type": "code",
   "execution_count": 21,
   "id": "cellular-sector",
   "metadata": {},
   "outputs": [
    {
     "data": {
      "text/plain": [
       "Text(0.5, 1.0, 'Boxplot of Tip Size and Total Bill')"
      ]
     },
     "execution_count": 21,
     "metadata": {},
     "output_type": "execute_result"
    },
    {
     "data": {
      "image/png": "[encoded data removed]",
      "text/plain": [
       "<Figure size 432x288 with 1 Axes>"
      ]
     },
     "metadata": {
      "needs_background": "light"
     },
     "output_type": "display_data"
    }
   ],
   "source": [
    "# Create a boxplot of both\n",
    "sns.boxplot(x=tips_data['total_bill'])\n",
    "sns.boxplot(x=tips_data['tip']).set_title('Boxplot of Tip Size and Total Bill')"
   ]
  },
  {
   "cell_type": "markdown",
   "id": "sound-russia",
   "metadata": {},
   "source": [
    "### Creating Histograms and Boxplots by Groups\n",
    "\n",
    "We can group quantitative variables by groups of qualitative variables, for example, tipping amounts of smokers vs. non-smokers. Or if tipping varies according to time or day."
   ]
  },
  {
   "cell_type": "code",
   "execution_count": 22,
   "id": "pressed-ottawa",
   "metadata": {},
   "outputs": [
    {
     "data": {
      "text/plain": [
       "Text(0.5, 1.0, 'Smoker vs. Non-Smoker Tipping')"
      ]
     },
     "execution_count": 22,
     "metadata": {},
     "output_type": "execute_result"
    },
    {
     "data": {
      "image/png": "[encoded data removed]",
      "text/plain": [
       "<Figure size 432x288 with 1 Axes>"
      ]
     },
     "metadata": {
      "needs_background": "light"
     },
     "output_type": "display_data"
    }
   ],
   "source": [
    "# Plotting tips grouped by smoking\n",
    "sns.boxplot(x=tips_data['tip'], y=tips_data['smoker']).set_title('Smoker vs. Non-Smoker Tipping')"
   ]
  },
  {
   "cell_type": "markdown",
   "id": "overhead-belarus",
   "metadata": {},
   "source": [
    "We can se the following:\n",
    "- The miminum and maximum are the same for smoker and non-smokers.\n",
    "- Smokers IQR is sligthly bigger than non-smoker IQR.\n",
    "- There is no significant difference between smokers and non-smokers tipping."
   ]
  },
  {
   "cell_type": "code",
   "execution_count": 24,
   "id": "falling-visiting",
   "metadata": {},
   "outputs": [
    {
     "data": {
      "text/plain": [
       "<seaborn.axisgrid.FacetGrid at 0x16a656220>"
      ]
     },
     "execution_count": 24,
     "metadata": {},
     "output_type": "execute_result"
    },
    {
     "data": {
      "image/png": "[encoded data removed]",
      "text/plain": [
       "<Figure size 216x432 with 2 Axes>"
      ]
     },
     "metadata": {
      "needs_background": "light"
     },
     "output_type": "display_data"
    }
   ],
   "source": [
    "g = sns.FacetGrid(tips_data, row='smoker')\n",
    "g.map(plt.hist, \"tip\")"
   ]
  },
  {
   "cell_type": "markdown",
   "id": "animated-burner",
   "metadata": {},
   "source": [
    "Both distributions looks very similar."
   ]
  },
  {
   "cell_type": "code",
   "execution_count": 26,
   "id": "rocky-pencil",
   "metadata": {},
   "outputs": [
    {
     "data": {
      "text/plain": [
       "Text(0.5, 1.0, 'Lunch vs Dinner Tipping')"
      ]
     },
     "execution_count": 26,
     "metadata": {},
     "output_type": "execute_result"
    },
    {
     "data": {
      "image/png": "[encoded data removed]",
      "text/plain": [
       "<Figure size 432x288 with 1 Axes>"
      ]
     },
     "metadata": {
      "needs_background": "light"
     },
     "output_type": "display_data"
    }
   ],
   "source": [
    "sns.boxplot(x=tips_data['tip'], y=tips_data['time']).set_title('Lunch vs Dinner Tipping')"
   ]
  },
  {
   "cell_type": "markdown",
   "id": "important-triple",
   "metadata": {},
   "source": [
    "We can see than **dinner** accounts for larger tips than lunch."
   ]
  },
  {
   "cell_type": "code",
   "execution_count": 27,
   "id": "controlling-liver",
   "metadata": {},
   "outputs": [
    {
     "data": {
      "text/plain": [
       "<seaborn.axisgrid.FacetGrid at 0x16a972850>"
      ]
     },
     "execution_count": 27,
     "metadata": {},
     "output_type": "execute_result"
    },
    {
     "data": {
      "image/png": "[encoded data removed]",
      "text/plain": [
       "<Figure size 216x432 with 2 Axes>"
      ]
     },
     "metadata": {
      "needs_background": "light"
     },
     "output_type": "display_data"
    }
   ],
   "source": [
    "g = sns.FacetGrid(tips_data, row='time')\n",
    "g.map(plt.hist, \"tip\")"
   ]
  },
  {
   "cell_type": "markdown",
   "id": "looking-distinction",
   "metadata": {},
   "source": [
    "At this restaurant we have more visitors at dinner than lunch."
   ]
  },
  {
   "cell_type": "code",
   "execution_count": 29,
   "id": "hungarian-reviewer",
   "metadata": {},
   "outputs": [
    {
     "data": {
      "text/plain": [
       "Text(0.5, 1.0, 'Tipping by Day')"
      ]
     },
     "execution_count": 29,
     "metadata": {},
     "output_type": "execute_result"
    },
    {
     "data": {
      "image/png": "[encoded data removed]",
      "text/plain": [
       "<Figure size 432x288 with 1 Axes>"
      ]
     },
     "metadata": {
      "needs_background": "light"
     },
     "output_type": "display_data"
    }
   ],
   "source": [
    "# Plotting tips grouped by day of the week\n",
    "sns.boxplot(x=tips_data['tip'], y=tips_data['day']).set_title('Tipping by Day')"
   ]
  },
  {
   "cell_type": "markdown",
   "id": "earlier-methodology",
   "metadata": {},
   "source": [
    "We can see:\n",
    "- The worst day for tips is Thrusday, because it has the lowest median.\n",
    "- The best day is Sunday.\n",
    "- Saturday has the highest outliers, but most of the data is similar to Friday."
   ]
  },
  {
   "cell_type": "code",
   "execution_count": 30,
   "id": "characteristic-union",
   "metadata": {},
   "outputs": [
    {
     "data": {
      "text/plain": [
       "<seaborn.axisgrid.FacetGrid at 0x16ab4b550>"
      ]
     },
     "execution_count": 30,
     "metadata": {},
     "output_type": "execute_result"
    },
    {
     "data": {
      "image/png": "[encoded data removed]",
      "text/plain": [
       "<Figure size 216x864 with 4 Axes>"
      ]
     },
     "metadata": {
      "needs_background": "light"
     },
     "output_type": "display_data"
    }
   ],
   "source": [
    "g = sns.FacetGrid(tips_data, row='day')\n",
    "g.map(plt.hist, \"tip\")"
   ]
  },
  {
   "cell_type": "markdown",
   "id": "chronic-gathering",
   "metadata": {},
   "source": [
    "Friday is the day worst day for tips, because there is not too many people eating here."
   ]
  },
  {
   "cell_type": "code",
   "execution_count": null,
   "id": "entertaining-rating",
   "metadata": {},
   "outputs": [],
   "source": []
  }
 ],
 "metadata": {
  "kernelspec": {
   "display_name": "Python 3",
   "language": "python",
   "name": "python3"
  },
  "language_info": {
   "codemirror_mode": {
    "name": "ipython",
    "version": 3
   },
   "file_extension": ".py",
   "mimetype": "text/x-python",
   "name": "python",
   "nbconvert_exporter": "python",
   "pygments_lexer": "ipython3",
   "version": "3.9.1"
  }
 },
 "nbformat": 4,
 "nbformat_minor": 5
}
